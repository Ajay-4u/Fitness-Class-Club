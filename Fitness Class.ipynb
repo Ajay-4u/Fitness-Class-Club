{
 "cells": [
  {
   "cell_type": "code",
   "execution_count": 166,
   "id": "895d1c9b",
   "metadata": {},
   "outputs": [],
   "source": [
    "import pandas as pd\n",
    "import matplotlib.pyplot as plt\n",
    "import seaborn as sns\n",
    "from sklearn.linear_model import LogisticRegression\n",
    "from sklearn.ensemble import RandomForestClassifier\n",
    "from sklearn.preprocessing import StandardScaler\n",
    "from sklearn.tree import DecisionTreeClassifier\n",
    "from sklearn.model_selection import train_test_split\n",
    "from sklearn.metrics import confusion_matrix, classification_report\n",
    "from sklearn.metrics import roc_auc_score\n",
    "\n",
    "import warnings\n",
    "warnings.filterwarnings('ignore')"
   ]
  },
  {
   "cell_type": "markdown",
   "id": "a2914010",
   "metadata": {},
   "source": [
    "# Background\n",
    "GoalZone is a fitness club chain in Canada.\n",
    "GoalZone offers a range of fitness classes in two capacities - 25 and 15. Some classes are always fully booked. Fully booked classes often have a low attendance rate. GoalZone wants to increase the number of spaces available for classes.\n",
    "They want to do this by predicting whether the member will attend the class or not. If they can predict a member will not attend the class, they can make another spaceavailable."
   ]
  },
  {
   "cell_type": "code",
   "execution_count": 61,
   "id": "c87240c8",
   "metadata": {},
   "outputs": [
    {
     "data": {
      "text/html": [
       "<div>\n",
       "<style scoped>\n",
       "    .dataframe tbody tr th:only-of-type {\n",
       "        vertical-align: middle;\n",
       "    }\n",
       "\n",
       "    .dataframe tbody tr th {\n",
       "        vertical-align: top;\n",
       "    }\n",
       "\n",
       "    .dataframe thead th {\n",
       "        text-align: right;\n",
       "    }\n",
       "</style>\n",
       "<table border=\"1\" class=\"dataframe\">\n",
       "  <thead>\n",
       "    <tr style=\"text-align: right;\">\n",
       "      <th></th>\n",
       "      <th>booking_id</th>\n",
       "      <th>months_as_member</th>\n",
       "      <th>weight</th>\n",
       "      <th>days_before</th>\n",
       "      <th>day_of_week</th>\n",
       "      <th>time</th>\n",
       "      <th>category</th>\n",
       "      <th>attended</th>\n",
       "    </tr>\n",
       "  </thead>\n",
       "  <tbody>\n",
       "    <tr>\n",
       "      <th>0</th>\n",
       "      <td>1</td>\n",
       "      <td>17</td>\n",
       "      <td>79.56</td>\n",
       "      <td>8</td>\n",
       "      <td>Wed</td>\n",
       "      <td>PM</td>\n",
       "      <td>Strength</td>\n",
       "      <td>0</td>\n",
       "    </tr>\n",
       "    <tr>\n",
       "      <th>1</th>\n",
       "      <td>2</td>\n",
       "      <td>10</td>\n",
       "      <td>79.01</td>\n",
       "      <td>2</td>\n",
       "      <td>Mon</td>\n",
       "      <td>AM</td>\n",
       "      <td>HIIT</td>\n",
       "      <td>0</td>\n",
       "    </tr>\n",
       "    <tr>\n",
       "      <th>2</th>\n",
       "      <td>3</td>\n",
       "      <td>16</td>\n",
       "      <td>74.53</td>\n",
       "      <td>14</td>\n",
       "      <td>Sun</td>\n",
       "      <td>AM</td>\n",
       "      <td>Strength</td>\n",
       "      <td>0</td>\n",
       "    </tr>\n",
       "    <tr>\n",
       "      <th>3</th>\n",
       "      <td>4</td>\n",
       "      <td>5</td>\n",
       "      <td>86.12</td>\n",
       "      <td>10</td>\n",
       "      <td>Fri</td>\n",
       "      <td>AM</td>\n",
       "      <td>Cycling</td>\n",
       "      <td>0</td>\n",
       "    </tr>\n",
       "    <tr>\n",
       "      <th>4</th>\n",
       "      <td>5</td>\n",
       "      <td>15</td>\n",
       "      <td>69.29</td>\n",
       "      <td>8</td>\n",
       "      <td>Thu</td>\n",
       "      <td>AM</td>\n",
       "      <td>HIIT</td>\n",
       "      <td>0</td>\n",
       "    </tr>\n",
       "  </tbody>\n",
       "</table>\n",
       "</div>"
      ],
      "text/plain": [
       "   booking_id  months_as_member  weight days_before day_of_week time  \\\n",
       "0           1                17   79.56           8         Wed   PM   \n",
       "1           2                10   79.01           2         Mon   AM   \n",
       "2           3                16   74.53          14         Sun   AM   \n",
       "3           4                 5   86.12          10         Fri   AM   \n",
       "4           5                15   69.29           8         Thu   AM   \n",
       "\n",
       "   category  attended  \n",
       "0  Strength         0  \n",
       "1      HIIT         0  \n",
       "2  Strength         0  \n",
       "3   Cycling         0  \n",
       "4      HIIT         0  "
      ]
     },
     "execution_count": 61,
     "metadata": {},
     "output_type": "execute_result"
    }
   ],
   "source": [
    "df = pd.read_csv('fitness_class_2212.csv')\n",
    "df.head()"
   ]
  },
  {
   "cell_type": "markdown",
   "id": "56c27590",
   "metadata": {},
   "source": [
    "# Task 1"
   ]
  },
  {
   "cell_type": "markdown",
   "id": "83d332ad",
   "metadata": {},
   "source": [
    "Undestanding the dataset"
   ]
  },
  {
   "cell_type": "code",
   "execution_count": 62,
   "id": "e963c21f",
   "metadata": {},
   "outputs": [
    {
     "name": "stdout",
     "output_type": "stream",
     "text": [
      "<class 'pandas.core.frame.DataFrame'>\n",
      "RangeIndex: 1500 entries, 0 to 1499\n",
      "Data columns (total 8 columns):\n",
      " #   Column            Non-Null Count  Dtype  \n",
      "---  ------            --------------  -----  \n",
      " 0   booking_id        1500 non-null   int64  \n",
      " 1   months_as_member  1500 non-null   int64  \n",
      " 2   weight            1480 non-null   float64\n",
      " 3   days_before       1500 non-null   object \n",
      " 4   day_of_week       1500 non-null   object \n",
      " 5   time              1500 non-null   object \n",
      " 6   category          1500 non-null   object \n",
      " 7   attended          1500 non-null   int64  \n",
      "dtypes: float64(1), int64(3), object(4)\n",
      "memory usage: 93.9+ KB\n"
     ]
    }
   ],
   "source": [
    "df.info()"
   ]
  },
  {
   "cell_type": "code",
   "execution_count": 63,
   "id": "405e82ab",
   "metadata": {},
   "outputs": [
    {
     "data": {
      "text/plain": [
       "booking_id          1500\n",
       "months_as_member      72\n",
       "weight              1241\n",
       "days_before           31\n",
       "day_of_week           10\n",
       "time                   2\n",
       "category               6\n",
       "attended               2\n",
       "dtype: int64"
      ]
     },
     "execution_count": 63,
     "metadata": {},
     "output_type": "execute_result"
    }
   ],
   "source": [
    "df.nunique()"
   ]
  },
  {
   "cell_type": "code",
   "execution_count": 52,
   "id": "1f1995ec",
   "metadata": {},
   "outputs": [
    {
     "data": {
      "text/plain": [
       "148"
      ]
     },
     "execution_count": 52,
     "metadata": {},
     "output_type": "execute_result"
    }
   ],
   "source": [
    "df['months_as_member'].max()"
   ]
  },
  {
   "cell_type": "code",
   "execution_count": 64,
   "id": "3678455a",
   "metadata": {},
   "outputs": [
    {
     "name": "stdout",
     "output_type": "stream",
     "text": [
      "20\n",
      "0\n"
     ]
    }
   ],
   "source": [
    "print(df['weight'].isna().sum())\n",
    "df['weight'] = df['weight'].fillna(df['weight'].mean().round(2))\n",
    "print(df['weight'].isna().sum())\n"
   ]
  },
  {
   "cell_type": "code",
   "execution_count": 60,
   "id": "4e05c501",
   "metadata": {},
   "outputs": [
    {
     "name": "stdout",
     "output_type": "stream",
     "text": [
      "55.41 170.52\n"
     ]
    }
   ],
   "source": [
    "print(df['weight'].min(), df['weight'].max())"
   ]
  },
  {
   "cell_type": "code",
   "execution_count": 65,
   "id": "de3f7e74",
   "metadata": {},
   "outputs": [
    {
     "name": "stdout",
     "output_type": "stream",
     "text": [
      "['8' '2' '14' '10' '6' '4' '9' '12' '5' '3' '7' '13' '12 days' '20' '1'\n",
      " '15' '6 days' '11' '13 days' '3 days' '16' '1 days' '7 days' '8 days'\n",
      " '10 days' '14 days' '17' '5 days' '2 days' '4 days' '29']\n",
      "[ 8  2 14 10  6  4  9 12  5  3  7 13 20  1 15 11 16 17 29]\n"
     ]
    }
   ],
   "source": [
    "print(df['days_before'].unique())\n",
    "df['days_before'] = df['days_before'].str.replace(' days', '').astype(int)\n",
    "print(df['days_before'].unique())\n"
   ]
  },
  {
   "cell_type": "code",
   "execution_count": 66,
   "id": "d0046dea",
   "metadata": {},
   "outputs": [
    {
     "name": "stdout",
     "output_type": "stream",
     "text": [
      "['Wed' 'Mon' 'Sun' 'Fri' 'Thu' 'Wednesday' 'Fri.' 'Tue' 'Sat' 'Monday']\n",
      "['Wed' 'Mon' 'Sun' 'Fri' 'Thu' 'Tue' 'Sat']\n"
     ]
    }
   ],
   "source": [
    "print(df['day_of_week'].unique())\n",
    "df = df.replace({'day_of_week': {'Wednesday':'Wed', 'Monday':'Mon', 'Fri.':'Fri'}})\n",
    "print(df['day_of_week'].unique())\n"
   ]
  },
  {
   "cell_type": "code",
   "execution_count": 67,
   "id": "77fe770f",
   "metadata": {},
   "outputs": [
    {
     "data": {
      "text/plain": [
       "array(['PM', 'AM'], dtype=object)"
      ]
     },
     "execution_count": 67,
     "metadata": {},
     "output_type": "execute_result"
    }
   ],
   "source": [
    "df['time'].unique()"
   ]
  },
  {
   "cell_type": "code",
   "execution_count": 68,
   "id": "be7d03b2",
   "metadata": {},
   "outputs": [
    {
     "name": "stdout",
     "output_type": "stream",
     "text": [
      "category\n",
      "HIIT        667\n",
      "Cycling     376\n",
      "Strength    233\n",
      "Yoga        135\n",
      "Aqua         76\n",
      "-            13\n",
      "Name: count, dtype: int64\n",
      "category\n",
      "HIIT        667\n",
      "Cycling     376\n",
      "Strength    233\n",
      "Yoga        135\n",
      "Aqua         76\n",
      "unknown      13\n",
      "Name: count, dtype: int64\n"
     ]
    }
   ],
   "source": [
    "print(df['category'].value_counts())\n",
    "df['category'] = df['category'].replace('-','unknown')\n",
    "print(df['category'].value_counts())"
   ]
  },
  {
   "cell_type": "code",
   "execution_count": 69,
   "id": "a0f04b8f",
   "metadata": {},
   "outputs": [
    {
     "data": {
      "text/plain": [
       "array([0, 1], dtype=int64)"
      ]
     },
     "execution_count": 69,
     "metadata": {},
     "output_type": "execute_result"
    }
   ],
   "source": [
    "df['attended'].unique()"
   ]
  },
  {
   "cell_type": "code",
   "execution_count": 70,
   "id": "1a96ea69",
   "metadata": {},
   "outputs": [
    {
     "name": "stdout",
     "output_type": "stream",
     "text": [
      "<class 'pandas.core.frame.DataFrame'>\n",
      "RangeIndex: 1500 entries, 0 to 1499\n",
      "Data columns (total 8 columns):\n",
      " #   Column            Non-Null Count  Dtype  \n",
      "---  ------            --------------  -----  \n",
      " 0   booking_id        1500 non-null   int64  \n",
      " 1   months_as_member  1500 non-null   int64  \n",
      " 2   weight            1500 non-null   float64\n",
      " 3   days_before       1500 non-null   int32  \n",
      " 4   day_of_week       1500 non-null   object \n",
      " 5   time              1500 non-null   object \n",
      " 6   category          1500 non-null   object \n",
      " 7   attended          1500 non-null   int64  \n",
      "dtypes: float64(1), int32(1), int64(3), object(3)\n",
      "memory usage: 88.0+ KB\n"
     ]
    }
   ],
   "source": [
    "df.info()"
   ]
  },
  {
   "cell_type": "code",
   "execution_count": 71,
   "id": "e3a500ed",
   "metadata": {},
   "outputs": [
    {
     "data": {
      "text/plain": [
       "booking_id          1500\n",
       "months_as_member      72\n",
       "weight              1241\n",
       "days_before           19\n",
       "day_of_week            7\n",
       "time                   2\n",
       "category               6\n",
       "attended               2\n",
       "dtype: int64"
      ]
     },
     "execution_count": 71,
     "metadata": {},
     "output_type": "execute_result"
    }
   ],
   "source": [
    "df.nunique()"
   ]
  },
  {
   "cell_type": "markdown",
   "id": "30ab71ac",
   "metadata": {},
   "source": [
    "Summary of Data Validation and Cleaning"
   ]
  },
  {
   "cell_type": "markdown",
   "id": "31f46642",
   "metadata": {},
   "source": [
    "The original DataFrame has 1500 entries and 8 columns. After validation, the entries remain 1500. The following describes what i did to each column.\n",
    "\n",
    "- booking_id: There were 1500 unique IDs, as described. There are no missing values for in this column. I did not make any changes to this column.\n",
    "- months_as_member: The values matches the description as provided in the table. There are no missing values to treat. I did not make any changes to this column.\n",
    "- weight: this is a continious variable with values rounded to 2 decimal places as described. It had a total missing value of 20. I used the overall average weight to replace all the missing values.\n",
    "- days_before: this values did not match the description because it had a combination numeric values stored as objects and alpha-numeric values stored as object. It had no missing values. I striped the string ' days' from the values containing it first, then converted the column to an interger datatype to make it discrete.\n",
    "- day_of_week: The values do not match the description provided in the table. There are no missing values. I replaced the values 'Wednesday', 'Fri.', and 'Monday' which was not provided in the description with the correct equivalent as provided in the description. \n",
    "- time: The values matches the description provided in the table. There are no missing values. I did not have to make any changes to this column.\n",
    "- category: The values match the description provided in the table. There are a total of 13 missing values in the column represented with a '-' sign. I replaced these missing values with the value 'unknown'.\n",
    "- attended: The values match the describtion provided in the table. The are no missing values. I did not have to make any changes to this column."
   ]
  },
  {
   "cell_type": "markdown",
   "id": "6a24f9d5",
   "metadata": {},
   "source": [
    "# Task 2"
   ]
  },
  {
   "cell_type": "code",
   "execution_count": 176,
   "id": "94c15104",
   "metadata": {},
   "outputs": [
    {
     "data": {
      "image/png": "[encoded data removed]",
      "text/plain": [
       "<Figure size 432x288 with 1 Axes>"
      ]
     },
     "metadata": {
      "needs_background": "light"
     },
     "output_type": "display_data"
    }
   ],
   "source": [
    "plot = sns.countplot(x='attended', data=df)\n",
    "for a in plot.patches:\n",
    "    plot.annotate(f'\\n{a.get_height()}', (a.get_x()+0.35, a.get_height()), ha='center', va='top', color='black', size=18)\n",
    "plot.set(title= 'Bookings that attended the class')\n",
    "plt.show()"
   ]
  },
  {
   "cell_type": "markdown",
   "id": "6c43ced8",
   "metadata": {},
   "source": [
    "- The binary category 0 (not attended) has the most observation compared to binary category 1 (attended).\n",
    "-  the Observations are not balanced across the categories because the value of 0 (not attended) is 1046, which is more than double the value of 1 (attended). "
   ]
  },
  {
   "cell_type": "markdown",
   "id": "55bf3872",
   "metadata": {},
   "source": [
    "# Task 3"
   ]
  },
  {
   "cell_type": "code",
   "execution_count": 98,
   "id": "903db195",
   "metadata": {},
   "outputs": [
    {
     "data": {
      "image/png": "[encoded data removed]",
      "text/plain": [
       "<Figure size 432x288 with 1 Axes>"
      ]
     },
     "metadata": {
      "needs_background": "light"
     },
     "output_type": "display_data"
    }
   ],
   "source": [
    "sns.histplot(x='months_as_member', data=df).set(title='Distribution of months as a member')\n",
    "plt.show()"
   ]
  },
  {
   "cell_type": "markdown",
   "id": "4aa3f307",
   "metadata": {},
   "source": [
    "- We see from the distribution of of the months as members that most members are have joined for about 2 - 20 months"
   ]
  },
  {
   "cell_type": "markdown",
   "id": "f89d712e",
   "metadata": {},
   "source": [
    "# Task 4"
   ]
  },
  {
   "cell_type": "code",
   "execution_count": 99,
   "id": "a488e1ce",
   "metadata": {},
   "outputs": [
    {
     "data": {
      "image/png": "[encoded data removed]",
      "text/plain": [
       "<Figure size 360x360 with 1 Axes>"
      ]
     },
     "metadata": {
      "needs_background": "light"
     },
     "output_type": "display_data"
    }
   ],
   "source": [
    "rel = sns.catplot(x='attended', y='months_as_member', data=df, kind='bar')\n",
    "rel.set(title='Relationship between months as a member vs attendance')\n",
    "plt.show()"
   ]
  },
  {
   "cell_type": "code",
   "execution_count": 105,
   "id": "c20b33ba",
   "metadata": {},
   "outputs": [
    {
     "data": {
      "text/plain": [
       "[Text(0.5, 1.0, 'Relationship between months as a member vs attendance')]"
      ]
     },
     "execution_count": 105,
     "metadata": {},
     "output_type": "execute_result"
    },
    {
     "data": {
      "image/png": "[encoded data removed]",
      "text/plain": [
       "<Figure size 432x288 with 1 Axes>"
      ]
     },
     "metadata": {
      "needs_background": "light"
     },
     "output_type": "display_data"
    }
   ],
   "source": [
    "rel2 = sns.boxplot(x='attended', y='months_as_member', data=df)\n",
    "rel2.set(title='Relationship between months as a member vs attendance')"
   ]
  },
  {
   "cell_type": "markdown",
   "id": "5b844b39",
   "metadata": {},
   "source": [
    "- We see that on average the members who have been with the fitness club for longer periods tend to attend classes more than members with shorter periods."
   ]
  },
  {
   "cell_type": "markdown",
   "id": "3c4958cb",
   "metadata": {},
   "source": [
    "# Task 5"
   ]
  },
  {
   "cell_type": "markdown",
   "id": "b3b9de9e",
   "metadata": {},
   "source": [
    "This is a typical True or False machine learning problem that would require a classification model to make predictions."
   ]
  },
  {
   "cell_type": "markdown",
   "id": "d81ddf8d",
   "metadata": {},
   "source": [
    "# Task 6"
   ]
  },
  {
   "cell_type": "markdown",
   "id": "75e6ae7b",
   "metadata": {},
   "source": [
    "Now I would be creating a baseline model to predict whether members will attend using the data provided. I would be using the LogisticRegression model as my baseline Model."
   ]
  },
  {
   "cell_type": "code",
   "execution_count": 126,
   "id": "366d8513",
   "metadata": {},
   "outputs": [],
   "source": [
    "# Data Preprocessing\n",
    "# Selecting the independent variables\n",
    "features = df.drop(['booking_id', 'attended'], axis=1)\n",
    "\n",
    "X = pd.get_dummies(features).values \n",
    "y = df['attended'].values\n",
    "\n",
    "X_train, X_test, y_train, y_test = train_test_split(X, y, random_state=42, test_size=0.2)\n",
    "\n",
    "# Modeling with a scaled data\n",
    "scaler = StandardScaler()\n",
    "X_scaled_train = scaler.fit_transform(X_train)\n",
    "X_scaled_test = scaler.transform(X_test)"
   ]
  },
  {
   "cell_type": "code",
   "execution_count": 164,
   "id": "476f5218",
   "metadata": {},
   "outputs": [
    {
     "data": {
      "text/plain": [
       "array([0, 0, 0, 0, 0, 0, 1, 0, 0, 0, 0, 0, 0, 0, 0, 0, 0, 1, 0, 0, 1, 0,\n",
       "       1, 0, 0, 0, 0, 0, 0, 0, 1, 1, 1, 0, 1, 0, 1, 0, 0, 0, 0, 0, 0, 0,\n",
       "       0, 0, 0, 0, 0, 0, 0, 0, 0, 0, 0, 1, 0, 0, 0, 0, 0, 0, 1, 0, 0, 0,\n",
       "       0, 0, 0, 1, 1, 1, 0, 1, 0, 0, 0, 0, 0, 0, 0, 1, 0, 0, 0, 0, 0, 0,\n",
       "       0, 0, 0, 0, 1, 0, 0, 0, 0, 0, 0, 0, 0, 1, 1, 0, 0, 0, 0, 0, 0, 0,\n",
       "       0, 0, 1, 0, 1, 0, 0, 1, 1, 0, 0, 0, 0, 0, 0, 0, 0, 0, 0, 0, 0, 0,\n",
       "       0, 0, 0, 0, 0, 0, 0, 1, 0, 0, 1, 1, 0, 0, 1, 0, 0, 0, 0, 1, 1, 0,\n",
       "       0, 0, 0, 1, 0, 0, 0, 0, 0, 1, 0, 0, 0, 0, 0, 0, 1, 1, 0, 0, 1, 0,\n",
       "       0, 0, 0, 0, 0, 0, 0, 0, 0, 1, 0, 0, 0, 0, 0, 0, 1, 0, 1, 0, 1, 0,\n",
       "       0, 0, 1, 0, 0, 0, 0, 1, 0, 0, 0, 0, 0, 0, 1, 0, 0, 1, 1, 0, 0, 0,\n",
       "       1, 0, 0, 0, 0, 0, 0, 0, 0, 0, 0, 0, 1, 0, 0, 1, 0, 0, 0, 0, 1, 0,\n",
       "       0, 0, 1, 0, 0, 0, 0, 0, 1, 0, 0, 0, 0, 0, 0, 0, 0, 0, 0, 0, 0, 0,\n",
       "       0, 0, 1, 1, 0, 0, 0, 0, 0, 0, 0, 1, 1, 0, 0, 0, 0, 0, 0, 0, 0, 0,\n",
       "       0, 0, 0, 0, 0, 0, 1, 0, 0, 0, 1, 0, 1, 0], dtype=int64)"
      ]
     },
     "execution_count": 164,
     "metadata": {},
     "output_type": "execute_result"
    }
   ],
   "source": [
    "# Calling a LogisticRegression model\n",
    "logreg = LogisticRegression()\n",
    "logreg.fit(X_scaled_train, y_train)\n",
    "logreg_pred = logreg.predict(X_scaled_test)\n",
    "logreg_pred"
   ]
  },
  {
   "cell_type": "markdown",
   "id": "f8ecfaae",
   "metadata": {},
   "source": [
    "# Task 7"
   ]
  },
  {
   "cell_type": "markdown",
   "id": "b3547080",
   "metadata": {},
   "source": [
    "I would be using Random Forest Classsifier as a comparison model to predict whether members will attend using the data provided."
   ]
  },
  {
   "cell_type": "code",
   "execution_count": 162,
   "id": "64dd4d88",
   "metadata": {},
   "outputs": [
    {
     "data": {
      "text/plain": [
       "array([0, 0, 0, 0, 0, 0, 0, 0, 0, 1, 1, 0, 0, 0, 1, 0, 0, 1, 0, 0, 1, 0,\n",
       "       0, 1, 0, 0, 0, 0, 0, 0, 1, 1, 1, 0, 1, 0, 1, 0, 0, 0, 1, 0, 0, 0,\n",
       "       0, 0, 0, 0, 0, 1, 0, 0, 0, 0, 0, 1, 0, 0, 0, 0, 0, 0, 1, 0, 0, 0,\n",
       "       0, 0, 0, 1, 1, 1, 0, 1, 0, 1, 0, 0, 0, 0, 0, 1, 0, 1, 0, 1, 0, 0,\n",
       "       0, 0, 0, 0, 1, 0, 0, 0, 0, 1, 0, 0, 1, 0, 0, 1, 0, 0, 0, 0, 0, 0,\n",
       "       0, 0, 1, 0, 1, 0, 0, 1, 1, 0, 1, 0, 0, 0, 0, 0, 0, 0, 0, 0, 0, 1,\n",
       "       1, 0, 0, 0, 0, 0, 0, 1, 0, 0, 1, 0, 0, 0, 1, 0, 0, 0, 0, 1, 1, 1,\n",
       "       0, 0, 0, 1, 0, 0, 0, 1, 0, 1, 0, 0, 0, 0, 0, 0, 1, 0, 0, 0, 1, 0,\n",
       "       0, 1, 0, 0, 0, 1, 0, 0, 0, 0, 1, 0, 0, 0, 0, 0, 1, 0, 0, 0, 1, 0,\n",
       "       0, 0, 1, 1, 0, 1, 1, 1, 0, 0, 0, 0, 0, 0, 0, 0, 0, 0, 1, 0, 0, 0,\n",
       "       1, 0, 0, 0, 0, 1, 0, 0, 0, 0, 1, 0, 1, 0, 0, 1, 1, 0, 0, 0, 1, 0,\n",
       "       0, 0, 1, 0, 0, 0, 0, 0, 1, 0, 0, 0, 0, 0, 0, 0, 0, 0, 0, 0, 0, 0,\n",
       "       1, 0, 1, 1, 0, 0, 0, 1, 0, 0, 0, 1, 1, 0, 0, 0, 0, 0, 0, 0, 0, 0,\n",
       "       0, 0, 0, 0, 0, 0, 1, 0, 0, 0, 1, 0, 1, 0], dtype=int64)"
      ]
     },
     "execution_count": 162,
     "metadata": {},
     "output_type": "execute_result"
    }
   ],
   "source": [
    "# Calling a RandomForestClassifier model\n",
    "rfcla = RandomForestClassifier()\n",
    "rfcla.fit(X_scaled_train, y_train)\n",
    "rfcla_pred = rfcla.predict(X_scaled_test)\n",
    "rfcla_pred"
   ]
  },
  {
   "cell_type": "markdown",
   "id": "557cb588",
   "metadata": {},
   "source": [
    "# Task 8"
   ]
  },
  {
   "cell_type": "markdown",
   "id": "b19d2b80",
   "metadata": {},
   "source": [
    "Why I used LogisticRegression Model?\n",
    "- Logistic Regression is one of the easiest and accurate models for binary classification in terms of training the model to learn from the dataset. Using this as a baseline model helps set a benchmark for any other model. If they do not significantly outperform logistic regression, it suggests that the problem might not require the added complexity. \n",
    "\n",
    "Why I used RandomForestClassifier Model?\n",
    "- As an ensemble method that combines the predictions of multiple decision trees, Random Forest Classifier can effectively deal with complex data relationships, handle outliers, achieving high accuracy, and deal with other complex metrix in just one model"
   ]
  },
  {
   "cell_type": "markdown",
   "id": "ac404164",
   "metadata": {},
   "source": [
    "# Task 9"
   ]
  },
  {
   "cell_type": "markdown",
   "id": "77f91274",
   "metadata": {},
   "source": [
    "I would be evaluating the performance for both LogisticRegression Model and RandomForestClassifier Model."
   ]
  },
  {
   "cell_type": "code",
   "execution_count": 175,
   "id": "8f841f2f",
   "metadata": {},
   "outputs": [
    {
     "name": "stdout",
     "output_type": "stream",
     "text": [
      "The roc_auc_score for LogisticRegression Classifier: 0.7\n",
      "Accuracy for LogisticRegression Classifier: 0.78\n",
      "Confusion Matrix for LogisticRegression Classifier: \n",
      " [[187  10]\n",
      " [ 57  46]]\n",
      "Classification Report for LogisticRegression Classifier: \n",
      "               precision    recall  f1-score   support\n",
      "\n",
      "           0       0.77      0.95      0.85       197\n",
      "           1       0.82      0.45      0.58       103\n",
      "\n",
      "    accuracy                           0.78       300\n",
      "   macro avg       0.79      0.70      0.71       300\n",
      "weighted avg       0.79      0.78      0.76       300\n",
      "\n"
     ]
    }
   ],
   "source": [
    "# Performance for LogisticRegression Model\n",
    "print('The roc_auc_score for LogisticRegression Classifier:', roc_auc_score(y_test, logreg_pred).round(2))\n",
    "print('Accuracy for LogisticRegression Classifier:', logreg.score(X_scaled_test, y_test).round(2))\n",
    "print('Confusion Matrix for LogisticRegression Classifier: \\n',  confusion_matrix(y_test, logreg_pred))\n",
    "print('Classification Report for LogisticRegression Classifier: \\n', classification_report(y_test, logreg_pred))"
   ]
  },
  {
   "cell_type": "code",
   "execution_count": 174,
   "id": "a6a668a9",
   "metadata": {},
   "outputs": [
    {
     "name": "stdout",
     "output_type": "stream",
     "text": [
      "The roc_auc_score for RandomForestClassifier: 0.7\n",
      "Accuracy for RandomForestClassifier: 0.76\n",
      "Confusion Matrix for RandomForestClassifier: \n",
      " [[175  22]\n",
      " [ 51  52]]\n",
      "Classification Report for RandomForestClassifier: \n",
      "               precision    recall  f1-score   support\n",
      "\n",
      "           0       0.77      0.89      0.83       197\n",
      "           1       0.70      0.50      0.59       103\n",
      "\n",
      "    accuracy                           0.76       300\n",
      "   macro avg       0.74      0.70      0.71       300\n",
      "weighted avg       0.75      0.76      0.75       300\n",
      "\n"
     ]
    }
   ],
   "source": [
    "# Performance for RandomForestClassifier Model\n",
    "print('The roc_auc_score for RandomForestClassifier:', roc_auc_score(y_test, rfcla_pred).round(2))\n",
    "print('Accuracy for RandomForestClassifier:', rfcla.score(X_scaled_test, y_test).round(2))\n",
    "print('Confusion Matrix for RandomForestClassifier: \\n',  confusion_matrix(y_test, rfcla_pred))\n",
    "print('Classification Report for RandomForestClassifier: \\n', classification_report(y_test, rfcla_pred))"
   ]
  },
  {
   "cell_type": "markdown",
   "id": "0138b0cf",
   "metadata": {},
   "source": [
    "# Task 10"
   ]
  },
  {
   "cell_type": "markdown",
   "id": "f151774f",
   "metadata": {},
   "source": [
    "Which Model performs better?\n",
    "\n",
    "The roc_auc_score of 0.70 for both Logistic Regression and Random Forest Classifier suggests that both models are good at distinguishing between positive and negative instances, regardless of the specific classification threshold chosen.\n",
    "\n",
    "- However, The Logistic Regression performs better at prediction with this problem because it holds a higher accuracy score of 0.78 when compared to Random Forest Classifier with an accuracy score of 0.76.\n",
    "\n",
    "From the Classification Report\n",
    "- A higher pricision value for 1 (attended) in the Logistic Regression (0.82) than in Random Forest Classifier (0.70) means we have a lower false positive rate in our prediction with Logistic Regression. i.e fewer people who actually attend regularly would be tagged as absent.\n",
    "- A higher recall value for 0 (not attended) in the Logistic Regression (0.95) than in Random Forest Classifier (0.89) means we have a lower false negative rate Logistic Regression. i.e we would be predicting most absent cases correctly"
   ]
  },
  {
   "cell_type": "code",
   "execution_count": null,
   "id": "b1e7017b",
   "metadata": {},
   "outputs": [],
   "source": []
  },
  {
   "cell_type": "code",
   "execution_count": null,
   "id": "83aafb00",
   "metadata": {},
   "outputs": [],
   "source": []
  },
  {
   "cell_type": "code",
   "execution_count": null,
   "id": "f4179e09",
   "metadata": {},
   "outputs": [],
   "source": []
  },
  {
   "cell_type": "code",
   "execution_count": null,
   "id": "ff397dc6",
   "metadata": {},
   "outputs": [],
   "source": []
  },
  {
   "cell_type": "code",
   "execution_count": null,
   "id": "14bbfc5b",
   "metadata": {},
   "outputs": [],
   "source": []
  },
  {
   "cell_type": "code",
   "execution_count": null,
   "id": "147c44cb",
   "metadata": {},
   "outputs": [],
   "source": []
  },
  {
   "cell_type": "code",
   "execution_count": null,
   "id": "5c2ce679",
   "metadata": {},
   "outputs": [],
   "source": []
  }
 ],
 "metadata": {
  "kernelspec": {
   "display_name": "Python 3",
   "language": "python",
   "name": "python3"
  },
  "language_info": {
   "codemirror_mode": {
    "name": "ipython",
    "version": 3
   },
   "file_extension": ".py",
   "mimetype": "text/x-python",
   "name": "python",
   "nbconvert_exporter": "python",
   "pygments_lexer": "ipython3",
   "version": "3.8.8"
  }
 },
 "nbformat": 4,
 "nbformat_minor": 5
}
